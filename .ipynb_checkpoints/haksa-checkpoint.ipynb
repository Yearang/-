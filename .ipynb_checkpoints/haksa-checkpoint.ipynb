{
 "cells": [
  {
   "cell_type": "code",
   "execution_count": 28,
   "metadata": {
    "collapsed": true
   },
   "outputs": [],
   "source": [
    "import requests\n",
    "import selenium\n",
    "import pymysql\n",
    "from bs4 import BeautifulSoup\n",
    "from selenium import webdriver\n",
    "from selenium.webdriver.common.keys import Keys\n",
    "\n",
    "\n",
    "conn=pymysql.connect(user='EDYR', passwd='edyr1221', host='edyrdb.cfhg3eem9b5e.us-east-2.rds.amazonaws.com', db='edyrdb', charset='utf8')\n",
    "\n",
    "cur= conn.cursor()\n",
    "\n",
    "#max page 찾기\n",
    "path='C:/Users/고예랑/Desktop/chromedriver.exe'\n",
    "driver=webdriver.Chrome(path)\n",
    "driver.get('http://new.sungshin.ac.kr/web/kor/comm010101?p_p_id=EXT_BBS&p_p_lifecycle=0&p_p_state=normal&p_p_mode=view&p_p_col_id=column-1&p_p_col_pos=1&p_p_col_count=2&_EXT_BBS_struts_action=%2Fext%2Fbbs%2Fview&_EXT_BBS_sCategory=&_EXT_BBS_sTitle=&_EXT_BBS_sWriter=&_EXT_BBS_sTag=&_EXT_BBS_sContent=&_EXT_BBS_sCategory2=&_EXT_BBS_sKeyType=&_EXT_BBS_sKeyword=&_EXT_BBS_curPage=1')\n",
    "a=driver.find_elements_by_xpath('//*[@id=\"p_p_id_EXT_BBS_\"]/div/div/div[2]/table[2]/tbody/tr/td[2]/div/a[11]')\n",
    "driver.get(a[0].get_attribute('href'))\n",
    "href=driver.current_url\n",
    "#print(href)\n",
    "\n",
    "max=href[-3:-1]+href[-1]\n",
    "max=int(max)\n",
    "#print(max)\n",
    "\n"
   ]
  },
  {
   "cell_type": "code",
   "execution_count": 51,
   "metadata": {},
   "outputs": [],
   "source": [
    "import pymysql\n",
    "\n",
    "conn=pymysql.connect(user='EDYR', passwd='edyr1221', host='edyrdb.cfhg3eem9b5e.us-east-2.rds.amazonaws.com', db='edyrdb', charset='utf8')\n",
    "\n",
    "cursor= conn.cursor()\n",
    "\n",
    "\n",
    "sql= \"\"\"\n",
    "     create table haksaa55(\n",
    "            title nvarchar(1000) primary key,\n",
    "            href nvarchar(1000) ,\n",
    "            article nvarchar(4000)\n",
    "            )\n",
    "   \n",
    "\"\"\"\n",
    "\n",
    "\n",
    "cursor.execute(sql)\n",
    "conn.commit()"
   ]
  },
  {
   "cell_type": "code",
   "execution_count": 55,
   "metadata": {
    "scrolled": true
   },
   "outputs": [
    {
     "name": "stdout",
     "output_type": "stream",
     "text": [
      "http://new.sungshin.ac.kr/web/kor/comm010101?p_p_id=EXT_BBS&p_p_lifecycle=0&p_p_state=normal&p_p_mode=view&p_p_col_id=column-1&p_p_col_pos=1&p_p_col_count=2&_EXT_BBS_struts_action=%2Fext%2Fbbs%2Fview&_EXT_BBS_sCategory=&_EXT_BBS_sTitle=&_EXT_BBS_sWriter=&_EXT_BBS_sTag=&_EXT_BBS_sContent=&_EXT_BBS_sCategory2=&_EXT_BBS_sKeyType=&_EXT_BBS_sKeyword=&_EXT_BBS_curPage=110\n",
      "2018학년도 2학기 교내 정보화(자격증) 특강 안내(재공지)\n"
     ]
    },
    {
     "name": "stderr",
     "output_type": "stream",
     "text": [
      "C:\\ProgramData\\Anaconda3\\lib\\site-packages\\pymysql\\cursors.py:170: Warning: (1062, \"Duplicate entry '2018학년도 2학기 교내 정보화(자격증) 특강 안내(' for key 'PRIMARY'\")\n",
      "  result = self._query(query)\n"
     ]
    },
    {
     "name": "stdout",
     "output_type": "stream",
     "text": [
      "2018-2 글쓰기클리닉 참여 안내\n"
     ]
    },
    {
     "name": "stderr",
     "output_type": "stream",
     "text": [
      "C:\\ProgramData\\Anaconda3\\lib\\site-packages\\pymysql\\cursors.py:170: Warning: (1062, \"Duplicate entry '2018-2 글쓰기클리닉 참여 안내' for key 'PRIMARY'\")\n",
      "  result = self._query(query)\n"
     ]
    },
    {
     "name": "stdout",
     "output_type": "stream",
     "text": [
      "2018학년도 2학기 이러닝 강좌 교수활동 자기진단검사 실시\n"
     ]
    },
    {
     "name": "stderr",
     "output_type": "stream",
     "text": [
      "C:\\ProgramData\\Anaconda3\\lib\\site-packages\\pymysql\\cursors.py:170: Warning: (1062, \"Duplicate entry '2018학년도 2학기 이러닝 강좌 교수활동 자기진단' for key 'PRIMARY'\")\n",
      "  result = self._query(query)\n"
     ]
    },
    {
     "name": "stdout",
     "output_type": "stream",
     "text": [
      "제 13회 English ESSAY CONTEST\n"
     ]
    },
    {
     "name": "stderr",
     "output_type": "stream",
     "text": [
      "C:\\ProgramData\\Anaconda3\\lib\\site-packages\\pymysql\\cursors.py:170: Warning: (1062, \"Duplicate entry '제 13회 English ESSAY CONTEST' for key 'PRIMARY'\")\n",
      "  result = self._query(query)\n"
     ]
    },
    {
     "name": "stdout",
     "output_type": "stream",
     "text": [
      "2018 학생 교양교과 공모전 개최 안내\n"
     ]
    },
    {
     "name": "stderr",
     "output_type": "stream",
     "text": [
      "C:\\ProgramData\\Anaconda3\\lib\\site-packages\\pymysql\\cursors.py:170: Warning: (1062, \"Duplicate entry '2018 학생 교양교과 공모전 개최 안내' for key 'PRIMARY'\")\n",
      "  result = self._query(query)\n"
     ]
    },
    {
     "name": "stdout",
     "output_type": "stream",
     "text": [
      "Fall in Library : 가을, 도서관에 빠지다\n"
     ]
    },
    {
     "name": "stderr",
     "output_type": "stream",
     "text": [
      "C:\\ProgramData\\Anaconda3\\lib\\site-packages\\pymysql\\cursors.py:170: Warning: (1062, \"Duplicate entry 'Fall in Library : 가을, 도서관에 빠지다' for key 'PRIMARY'\")\n",
      "  result = self._query(query)\n"
     ]
    },
    {
     "name": "stdout",
     "output_type": "stream",
     "text": [
      "2018학년도 2학기 교수법 클리닉\n"
     ]
    },
    {
     "name": "stderr",
     "output_type": "stream",
     "text": [
      "C:\\ProgramData\\Anaconda3\\lib\\site-packages\\pymysql\\cursors.py:170: Warning: (1062, \"Duplicate entry '2018학년도 2학기 교수법 클리닉' for key 'PRIMARY'\")\n",
      "  result = self._query(query)\n"
     ]
    },
    {
     "name": "stdout",
     "output_type": "stream",
     "text": [
      "2019 로스쿨 입시 대비 모의면접\n"
     ]
    },
    {
     "name": "stderr",
     "output_type": "stream",
     "text": [
      "C:\\ProgramData\\Anaconda3\\lib\\site-packages\\pymysql\\cursors.py:170: Warning: (1062, \"Duplicate entry '2019 로스쿨 입시 대비 모의면접' for key 'PRIMARY'\")\n",
      "  result = self._query(query)\n"
     ]
    },
    {
     "name": "stdout",
     "output_type": "stream",
     "text": [
      "성신 알리미 설치 안내\n"
     ]
    },
    {
     "name": "stderr",
     "output_type": "stream",
     "text": [
      "C:\\ProgramData\\Anaconda3\\lib\\site-packages\\pymysql\\cursors.py:170: Warning: (1062, \"Duplicate entry '성신 알리미 설치 안내' for key 'PRIMARY'\")\n",
      "  result = self._query(query)\n"
     ]
    },
    {
     "name": "stdout",
     "output_type": "stream",
     "text": [
      "2018학년도 2학기 셔틀버스 정상운행 안내\n"
     ]
    },
    {
     "name": "stderr",
     "output_type": "stream",
     "text": [
      "C:\\ProgramData\\Anaconda3\\lib\\site-packages\\pymysql\\cursors.py:170: Warning: (1062, \"Duplicate entry '2018학년도 2학기 셔틀버스 정상운행 안내' for key 'PRIMARY'\")\n",
      "  result = self._query(query)\n"
     ]
    },
    {
     "name": "stdout",
     "output_type": "stream",
     "text": [
      "셔틀버스 차내 음식물 반입금지 안내\n"
     ]
    },
    {
     "name": "stderr",
     "output_type": "stream",
     "text": [
      "C:\\ProgramData\\Anaconda3\\lib\\site-packages\\pymysql\\cursors.py:170: Warning: (1062, \"Duplicate entry '셔틀버스 차내 음식물 반입금지 안내' for key 'PRIMARY'\")\n",
      "  result = self._query(query)\n"
     ]
    },
    {
     "name": "stdout",
     "output_type": "stream",
     "text": [
      "2009-1 성신 교육봉사 멘토링 \"Mentor·Mentee Day\" 개최 안내\n"
     ]
    },
    {
     "name": "stderr",
     "output_type": "stream",
     "text": [
      "C:\\ProgramData\\Anaconda3\\lib\\site-packages\\pymysql\\cursors.py:170: Warning: (1062, \"Duplicate entry '2009-1 성신 교육봉사 멘토링 Mentor·Mentee Day 개최 ' for key 'PRIMARY'\")\n",
      "  result = self._query(query)\n"
     ]
    },
    {
     "name": "stdout",
     "output_type": "stream",
     "text": [
      "2009학년도 졸업앨범 촬영 안내\n"
     ]
    },
    {
     "name": "stderr",
     "output_type": "stream",
     "text": [
      "C:\\ProgramData\\Anaconda3\\lib\\site-packages\\pymysql\\cursors.py:170: Warning: (1062, \"Duplicate entry '2009학년도 졸업앨범 촬영 안내' for key 'PRIMARY'\")\n",
      "  result = self._query(query)\n"
     ]
    },
    {
     "name": "stdout",
     "output_type": "stream",
     "text": [
      "역사현장체험(독도) 탐방단 모집 안내\n"
     ]
    },
    {
     "name": "stderr",
     "output_type": "stream",
     "text": [
      "C:\\ProgramData\\Anaconda3\\lib\\site-packages\\pymysql\\cursors.py:170: Warning: (1062, \"Duplicate entry '역사현장체험(독도) 탐방단 모집 안내' for key 'PRIMARY'\")\n",
      "  result = self._query(query)\n"
     ]
    },
    {
     "name": "stdout",
     "output_type": "stream",
     "text": [
      "2009년 5월 모의토익 안내\n"
     ]
    },
    {
     "name": "stderr",
     "output_type": "stream",
     "text": [
      "C:\\ProgramData\\Anaconda3\\lib\\site-packages\\pymysql\\cursors.py:170: Warning: (1062, \"Duplicate entry '2009년 5월 모의토익 안내' for key 'PRIMARY'\")\n",
      "  result = self._query(query)\n"
     ]
    },
    {
     "name": "stdout",
     "output_type": "stream",
     "text": [
      "학습전략 시리즈(공부 잘하는 방법) 워크숍\n"
     ]
    },
    {
     "name": "stderr",
     "output_type": "stream",
     "text": [
      "C:\\ProgramData\\Anaconda3\\lib\\site-packages\\pymysql\\cursors.py:170: Warning: (1062, \"Duplicate entry '학습전략 시리즈(공부 잘하는 방법) 워크숍' for key 'PRIMARY'\")\n",
      "  result = self._query(query)\n"
     ]
    },
    {
     "name": "stdout",
     "output_type": "stream",
     "text": [
      "리뉴얼 홈페이지 주요 변경 사항 안내\n"
     ]
    },
    {
     "name": "stderr",
     "output_type": "stream",
     "text": [
      "C:\\ProgramData\\Anaconda3\\lib\\site-packages\\pymysql\\cursors.py:170: Warning: (1062, \"Duplicate entry '리뉴얼 홈페이지 주요 변경 사항 안내' for key 'PRIMARY'\")\n",
      "  result = self._query(query)\n"
     ]
    },
    {
     "name": "stdout",
     "output_type": "stream",
     "text": [
      "제11기 포러스 추가선발 <최종 합격자> 발표\n"
     ]
    },
    {
     "name": "stderr",
     "output_type": "stream",
     "text": [
      "C:\\ProgramData\\Anaconda3\\lib\\site-packages\\pymysql\\cursors.py:170: Warning: (1062, \"Duplicate entry '제11기 포러스 추가선발 <최종 합격자> 발표' for key 'PRIMARY'\")\n",
      "  result = self._query(query)\n"
     ]
    },
    {
     "name": "stdout",
     "output_type": "stream",
     "text": [
      "제11기 포러스 최종 명단\n"
     ]
    },
    {
     "name": "stderr",
     "output_type": "stream",
     "text": [
      "C:\\ProgramData\\Anaconda3\\lib\\site-packages\\pymysql\\cursors.py:170: Warning: (1062, \"Duplicate entry '제11기 포러스 최종 명단' for key 'PRIMARY'\")\n",
      "  result = self._query(query)\n"
     ]
    },
    {
     "name": "stdout",
     "output_type": "stream",
     "text": [
      "리뉴얼 홈페이지 오픈 안내\n"
     ]
    },
    {
     "name": "stderr",
     "output_type": "stream",
     "text": [
      "C:\\ProgramData\\Anaconda3\\lib\\site-packages\\pymysql\\cursors.py:170: Warning: (1062, \"Duplicate entry '리뉴얼 홈페이지 오픈 안내' for key 'PRIMARY'\")\n",
      "  result = self._query(query)\n"
     ]
    },
    {
     "name": "stdout",
     "output_type": "stream",
     "text": [
      "학사 및 행정시스템 접근 방법 안내\n"
     ]
    },
    {
     "name": "stderr",
     "output_type": "stream",
     "text": [
      "C:\\ProgramData\\Anaconda3\\lib\\site-packages\\pymysql\\cursors.py:170: Warning: (1062, \"Duplicate entry '학사 및 행정시스템 접근 방법 안내' for key 'PRIMARY'\")\n",
      "  result = self._query(query)\n"
     ]
    },
    {
     "name": "stdout",
     "output_type": "stream",
     "text": [
      "제11기 포러스 추가선발 <2차 전형 합격자> 발표\n"
     ]
    },
    {
     "name": "stderr",
     "output_type": "stream",
     "text": [
      "C:\\ProgramData\\Anaconda3\\lib\\site-packages\\pymysql\\cursors.py:170: Warning: (1062, \"Duplicate entry '제11기 포러스 추가선발 <2차 전형 합격자> 발표' for key 'PRIMARY'\")\n",
      "  result = self._query(query)\n"
     ]
    },
    {
     "name": "stdout",
     "output_type": "stream",
     "text": [
      "제4기 예비교사들의 즐거운 교수법 교실 워크숍 개최\n"
     ]
    },
    {
     "name": "stderr",
     "output_type": "stream",
     "text": [
      "C:\\ProgramData\\Anaconda3\\lib\\site-packages\\pymysql\\cursors.py:170: Warning: (1062, \"Duplicate entry '제4기 예비교사들의 즐거운 교수법 교실 워크숍 ' for key 'PRIMARY'\")\n",
      "  result = self._query(query)\n"
     ]
    },
    {
     "name": "stdout",
     "output_type": "stream",
     "text": [
      "사범대학 취업특강 시리즈Ⅲ: \"또 하나의 선택\"\n"
     ]
    },
    {
     "name": "stderr",
     "output_type": "stream",
     "text": [
      "C:\\ProgramData\\Anaconda3\\lib\\site-packages\\pymysql\\cursors.py:170: Warning: (1062, \"Duplicate entry '사범대학 취업특강 시리즈Ⅲ: 또 하나의 선택' for key 'PRIMARY'\")\n",
      "  result = self._query(query)\n"
     ]
    },
    {
     "name": "stdout",
     "output_type": "stream",
     "text": [
      "2009학년도 교육실습 에세이 & 수업자료 공모전\n"
     ]
    },
    {
     "name": "stderr",
     "output_type": "stream",
     "text": [
      "C:\\ProgramData\\Anaconda3\\lib\\site-packages\\pymysql\\cursors.py:170: Warning: (1062, \"Duplicate entry '2009학년도 교육실습 에세이 & 수업자료 공모전' for key 'PRIMARY'\")\n",
      "  result = self._query(query)\n"
     ]
    },
    {
     "name": "stdout",
     "output_type": "stream",
     "text": [
      "법과대학 출범식 및 기념세미나\n"
     ]
    },
    {
     "name": "stderr",
     "output_type": "stream",
     "text": [
      "C:\\ProgramData\\Anaconda3\\lib\\site-packages\\pymysql\\cursors.py:170: Warning: (1062, \"Duplicate entry '법과대학 출범식 및 기념세미나' for key 'PRIMARY'\")\n",
      "  result = self._query(query)\n"
     ]
    },
    {
     "name": "stdout",
     "output_type": "stream",
     "text": [
      "http://new.sungshin.ac.kr/web/kor/comm010101?p_p_id=EXT_BBS&p_p_lifecycle=0&p_p_state=normal&p_p_mode=view&p_p_col_id=column-1&p_p_col_pos=1&p_p_col_count=2&_EXT_BBS_struts_action=%2Fext%2Fbbs%2Fview&_EXT_BBS_sCategory=&_EXT_BBS_sTitle=&_EXT_BBS_sWriter=&_EXT_BBS_sTag=&_EXT_BBS_sContent=&_EXT_BBS_sCategory2=&_EXT_BBS_sKeyType=&_EXT_BBS_sKeyword=&_EXT_BBS_curPage=111\n",
      "2018학년도 2학기 교내 정보화(자격증) 특강 안내(재공지)\n",
      "2018-2 글쓰기클리닉 참여 안내\n",
      "2018학년도 2학기 이러닝 강좌 교수활동 자기진단검사 실시\n",
      "제 13회 English ESSAY CONTEST\n",
      "2018 학생 교양교과 공모전 개최 안내\n",
      "Fall in Library : 가을, 도서관에 빠지다\n",
      "2018학년도 2학기 교수법 클리닉\n",
      "2019 로스쿨 입시 대비 모의면접\n",
      "성신 알리미 설치 안내\n",
      "2018학년도 2학기 셔틀버스 정상운행 안내\n",
      "셔틀버스 차내 음식물 반입금지 안내\n",
      "2009 MOS/MCAS 세계경진대회 안내 및 MCAS부문 본선 직행자 선발 안내\n",
      "2009년 4월 모의토익 안내\n"
     ]
    },
    {
     "name": "stderr",
     "output_type": "stream",
     "text": [
      "C:\\ProgramData\\Anaconda3\\lib\\site-packages\\pymysql\\cursors.py:170: Warning: (1062, \"Duplicate entry '2009년 4월 모의토익 안내' for key 'PRIMARY'\")\n",
      "  result = self._query(query)\n"
     ]
    }
   ],
   "source": [
    "url=[]\n",
    "name=[]\n",
    "article=[]\n",
    "page = 110\n",
    "k = 0\n",
    "aa = 0\n",
    "while page <= 111:\n",
    "    url='http://new.sungshin.ac.kr/web/kor/comm010101?p_p_id=EXT_BBS&p_p_lifecycle=0&p_p_state=normal&p_p_mode=view&p_p_col_id=column-1&p_p_col_pos=1&p_p_col_count=2&_EXT_BBS_struts_action=%2Fext%2Fbbs%2Fview&_EXT_BBS_sCategory=&_EXT_BBS_sTitle=&_EXT_BBS_sWriter=&_EXT_BBS_sTag=&_EXT_BBS_sContent=&_EXT_BBS_sCategory2=&_EXT_BBS_sKeyType=&_EXT_BBS_sKeyword=&_EXT_BBS_curPage='+ str(page)\n",
    "    print(url)\n",
    "    source_code=requests.get(url)\n",
    "    plain_text=source_code.text\n",
    "    soup=BeautifulSoup(plain_text,'html.parser')\n",
    "    page = page + 1\n",
    "    for link in soup.select('td > a'):\n",
    "        href= link.get('href') \n",
    "        title=link.get_text(strip = True)\n",
    "#         print(title)\n",
    "#         sql = 'INSERT INTO haksa21 (title) VALUES(\"' + str(title.encode('utf8')) + '\")'\n",
    "#         sql = 'INSERT INTO haksa23 (title,href) VALUES(\"' + str(title) + '\",\"' + str(href) + '\")'\n",
    "#         sql = 'INSERT INTO haksa10 (title) VALUES(\"' + title.decode('euc-kr') + '\")'\n",
    "#         print(sql)\n",
    "\n",
    "        source_code=requests.get(href)\n",
    "        plain_text=source_code.text\n",
    "        soup=BeautifulSoup(plain_text,'html.parser')\n",
    "    \n",
    "    \n",
    "# \n",
    "        for contents in soup.select('#p_p_id_EXT_BBS_ > div > div > div.contents > table.bbs-body'):\n",
    "                        article = contents.text\n",
    "                        print(title)\n",
    "#                         sql = \"INSERT INTO haksa46 (title,href,article) VALUES('\" + str(title) + \"','\" + str(href) + \"','\" + str(article) +\"')\"\n",
    "                        title=title.replace('\"',\"\")\n",
    "                        title=title.replace(\"'\",\"\")\n",
    "                        article=article.replace(\"'\",\"\")\n",
    "                        article=article.replace('\"',\"\")\n",
    "                \n",
    "                        sql = 'INSERT ignore INTO haksaa55 (title,href,article) VALUES(\"' + str(title) + '\",\"' + str(href) + '\",\"' + str(article) +'\")'\n",
    "#                                     sql = ''NSERT INTO haksa24 (title,href) VALUES(\"' + str(title) + '\",\"' + str(href) +'\")'\n",
    "                        cursor.execute(sql)\n",
    "                        conn.commit()\n",
    "#                                        print(contents.text)\n",
    "#                                         article += contents.text\n",
    "\n",
    "\n",
    "#                                         print(article)\n",
    "#                                         sql=\"\"\"\n",
    "#                                             insert ignore into haksa values(href, title, article)\n",
    "#                                         \"\"\"\n",
    "#                                         cursor.execute(sql)\n",
    "        conn.commit()\n",
    "                                            \n",
    "        \n",
    "    \n",
    "cursor.execute(sql)    \n",
    "conn.commit()\n",
    "       \n",
    "#     sql = 'INSERT INTO haksa14 (title) VALUES(\"'+ str('abcd') + '\")'\n",
    "#     cursor.execute(sql)"
   ]
  },
  {
   "cell_type": "code",
   "execution_count": 305,
   "metadata": {
    "collapsed": true
   },
   "outputs": [],
   "source": [
    "conn.commit()"
   ]
  },
  {
   "cell_type": "code",
   "execution_count": 58,
   "metadata": {},
   "outputs": [
    {
     "name": "stdout",
     "output_type": "stream",
     "text": [
      "2009 MOS/MCAS 세계경진대회 안내 및 MCAS부문 본선 직행자 선발 안내\n",
      "2009-1 성신 교육봉사 멘토링 Mentor·Mentee Day 개최 안내\n",
      "2009년 4월 모의토익 안내\n",
      "2009년 5월 모의토익 안내\n",
      "2009학년도 교육실습 에세이 & 수업자료 공모전\n",
      "2009학년도 졸업앨범 촬영 안내\n",
      "2018 학생 교양교과 공모전 개최 안내\n",
      "2018-2 글쓰기클리닉 참여 안내\n",
      "2018학년도 2학기 교내 정보화(자격증) 특강 안내(재공지)\n",
      "2018학년도 2학기 교수법 클리닉\n",
      "2018학년도 2학기 셔틀버스 정상운행 안내\n",
      "2018학년도 2학기 이러닝 강좌 교수활동 자기진단검사 실시\n",
      "2019 로스쿨 입시 대비 모의면접\n",
      "Fall in Library : 가을, 도서관에 빠지다\n",
      "리뉴얼 홈페이지 오픈 안내\n",
      "리뉴얼 홈페이지 주요 변경 사항 안내\n",
      "법과대학 출범식 및 기념세미나\n",
      "사범대학 취업특강 시리즈Ⅲ: 또 하나의 선택\n",
      "성신 알리미 설치 안내\n",
      "셔틀버스 차내 음식물 반입금지 안내\n",
      "역사현장체험(독도) 탐방단 모집 안내\n",
      "제 13회 English ESSAY CONTEST\n",
      "제11기 포러스 최종 명단\n",
      "제11기 포러스 추가선발 <2차 전형 합격자> 발표\n",
      "제11기 포러스 추가선발 <최종 합격자> 발표\n",
      "제4기 예비교사들의 즐거운 교수법 교실 워크숍 개최\n",
      "학사 및 행정시스템 접근 방법 안내\n",
      "학습전략 시리즈(공부 잘하는 방법) 워크숍\n"
     ]
    }
   ],
   "source": [
    "sql = \"SELECT * FROM haksaa55\"\n",
    "cursor.execute(sql)\n",
    "result = cursor.fetchall()\n",
    "count = 0\n",
    "for row_data in result:\n",
    "    print(row_data[0])\n",
    "    count+=1\n",
    "#     print(row_data[1])\n",
    "#     print(row_data[2])"
   ]
  },
  {
   "cell_type": "code",
   "execution_count": null,
   "metadata": {
    "collapsed": true
   },
   "outputs": [],
   "source": []
  }
 ],
 "metadata": {
  "kernelspec": {
   "display_name": "Python 3",
   "language": "python",
   "name": "python3"
  },
  "language_info": {
   "codemirror_mode": {
    "name": "ipython",
    "version": 3
   },
   "file_extension": ".py",
   "mimetype": "text/x-python",
   "name": "python",
   "nbconvert_exporter": "python",
   "pygments_lexer": "ipython3",
   "version": "3.6.2"
  }
 },
 "nbformat": 4,
 "nbformat_minor": 2
}
